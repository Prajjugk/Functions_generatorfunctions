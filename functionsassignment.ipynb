{
 "cells": [
  {
   "cell_type": "markdown",
   "id": "593556ef",
   "metadata": {},
   "source": [
    "# Assignment 2"
   ]
  },
  {
   "cell_type": "markdown",
   "id": "6ffb0fff",
   "metadata": {},
   "source": [
    "#Q1. Which keyword is used to create a function? Create a function to return a list of odd numbers in the\n",
    "range of 1 to 25."
   ]
  },
  {
   "cell_type": "markdown",
   "id": "5959cace",
   "metadata": {},
   "source": [
    "def is the keyword used to create a function.\n",
    "Example"
   ]
  },
  {
   "cell_type": "code",
   "execution_count": 22,
   "id": "47367cf7",
   "metadata": {},
   "outputs": [],
   "source": [
    "def odd_num():\n",
    "    l=[]\n",
    "    for i in range(1,26):\n",
    "        if i%2 !=0:\n",
    "            l.append(i)\n",
    "        \n",
    "    return l\n",
    " "
   ]
  },
  {
   "cell_type": "code",
   "execution_count": 23,
   "id": "a9193cb7",
   "metadata": {},
   "outputs": [
    {
     "data": {
      "text/plain": [
       "[1, 3, 5, 7, 9, 11, 13, 15, 17, 19, 21, 23, 25]"
      ]
     },
     "execution_count": 23,
     "metadata": {},
     "output_type": "execute_result"
    }
   ],
   "source": [
    "odd_num()"
   ]
  },
  {
   "cell_type": "code",
   "execution_count": null,
   "id": "9f53c36b",
   "metadata": {},
   "outputs": [],
   "source": []
  },
  {
   "cell_type": "markdown",
   "id": "2a596526",
   "metadata": {},
   "source": [
    "#Q2. Why *args and **kwargs is used in some functions? Create a function each for *args and **kwargs to\n",
    "demonstrate their use."
   ]
  },
  {
   "cell_type": "markdown",
   "id": "84e22dbe",
   "metadata": {},
   "source": [
    "*args and **kwargs are used in function definitions to allow a function to accept a variable number of arguments.*args syntax in a function definition allows us to pass any number of positional arguments to the function.\n",
    "These arguments are collected into a tuple within the function.**kwargs syntax in a function definition allows us to pass any number of keyword arguments to the function.These arguments are collected into a dictionary within the function.\n",
    "Example:\n"
   ]
  },
  {
   "cell_type": "code",
   "execution_count": 54,
   "id": "4ee45d29",
   "metadata": {
    "scrolled": true
   },
   "outputs": [
    {
     "data": {
      "text/plain": [
       "(1, 5, 45, 4, 'pwskills')"
      ]
     },
     "execution_count": 54,
     "metadata": {},
     "output_type": "execute_result"
    }
   ],
   "source": [
    "def test(*agrs):\n",
    "    for arg in agrs:\n",
    "        return agrs\n",
    "test(1,5,45,4,\"pwskills\")#Takes n number of values and returns"
   ]
  },
  {
   "cell_type": "code",
   "execution_count": 56,
   "id": "2f109510",
   "metadata": {},
   "outputs": [
    {
     "name": "stdout",
     "output_type": "stream",
     "text": [
      "Name: Prajwal\n",
      "Age: 22\n"
     ]
    }
   ],
   "source": [
    "def kwargs_example(**kwargs):\n",
    "    for key, value in kwargs.items():\n",
    "        print(f\"{key}: {value}\")\n",
    "\n",
    "\n",
    "kwargs_example(Name=\"Prajwal\",Age=\"22\")#used to take n number of keywords and values"
   ]
  },
  {
   "cell_type": "code",
   "execution_count": null,
   "id": "83807213",
   "metadata": {},
   "outputs": [],
   "source": []
  },
  {
   "cell_type": "markdown",
   "id": "640f3142",
   "metadata": {},
   "source": [
    "Q3. What is an iterator in python? Name the method used to initialise the iterator object and the method\n",
    "used for iteration. Use these methods to print the first five elements of the given list [2, 4, 6, 8, 10, 12, 14, 16,\n",
    "18, 20]."
   ]
  },
  {
   "cell_type": "markdown",
   "id": "93ca497b",
   "metadata": {},
   "source": [
    "An iterator is an object that allows us to traverse through a sequence of elements one by one. Iterators are used to provide a common interface for iterating over different types of data structures, such as lists, tuples, dictionaries, and more. They are essential for implementing concepts like loops and for enabling lazy evaluation of sequences.\n",
    "An iterator in Python is an object that is used to iterate over iterable objects like lists, tuples, dicts, and sets. The Python iterators object is initialized using the iter() method. It uses the next() method for iteration.\n",
    "Example"
   ]
  },
  {
   "cell_type": "code",
   "execution_count": 60,
   "id": "881e1992",
   "metadata": {},
   "outputs": [
    {
     "name": "stdout",
     "output_type": "stream",
     "text": [
      "2\n",
      "4\n",
      "6\n",
      "8\n",
      "10\n"
     ]
    }
   ],
   "source": [
    "l1=[2, 4, 6, 8, 10, 12, 14, 16, 18, 20]\n",
    "for i in l1:\n",
    "    if i==12:\n",
    "        break\n",
    "    print(i)\n",
    "    \n",
    "    "
   ]
  },
  {
   "cell_type": "code",
   "execution_count": null,
   "id": "7936733c",
   "metadata": {},
   "outputs": [],
   "source": []
  },
  {
   "cell_type": "markdown",
   "id": "3b00e81e",
   "metadata": {},
   "source": [
    "#Q4. What is a generator function in python? Why yield keyword is used? Give an example of a generator\n",
    "function."
   ]
  },
  {
   "cell_type": "markdown",
   "id": "9beb62a2",
   "metadata": {},
   "source": [
    "A generator function in Python is a special type of function that returns an iterator, allowing us to iterate over a sequence of values without needing to store the entire sequence in memory. It generates values one at a time as we iterate through it. This makes generator functions memory-efficient and suitable for dealing with large or infinite sequences.\n",
    "\n",
    "The yield keyword is used in generator functions to yield a value and temporarily pause the function's execution. When the function is resumed, it continues from where it was paused and generates the next value. This behavior is crucial for creating iterators that don't consume excessive memory.\n",
    "Example"
   ]
  },
  {
   "cell_type": "code",
   "execution_count": 64,
   "id": "40ed115b",
   "metadata": {},
   "outputs": [
    {
     "data": {
      "text/plain": [
       "<generator object countdown at 0x0000016682456800>"
      ]
     },
     "execution_count": 64,
     "metadata": {},
     "output_type": "execute_result"
    }
   ],
   "source": [
    "def countdown(n):\n",
    "    while n > 0:\n",
    "        yield n\n",
    "        n -= 1\n",
    "countdown(5)"
   ]
  },
  {
   "cell_type": "code",
   "execution_count": 63,
   "id": "6a75d975",
   "metadata": {},
   "outputs": [
    {
     "name": "stdout",
     "output_type": "stream",
     "text": [
      "5\n",
      "4\n",
      "3\n",
      "2\n",
      "1\n"
     ]
    }
   ],
   "source": [
    "for i in countdown(5):\n",
    "    print(i)"
   ]
  },
  {
   "cell_type": "code",
   "execution_count": null,
   "id": "992e4fdb",
   "metadata": {},
   "outputs": [],
   "source": []
  },
  {
   "cell_type": "markdown",
   "id": "deb84821",
   "metadata": {},
   "source": [
    "#Q5. Create a generator function for prime numbers less than 1000. Use the next() method to print the\n",
    "first 20 prime numbers."
   ]
  },
  {
   "cell_type": "code",
   "execution_count": 66,
   "id": "c4f72184",
   "metadata": {},
   "outputs": [
    {
     "data": {
      "text/plain": [
       "<generator object prime_generator at 0x000001668284E5E0>"
      ]
     },
     "execution_count": 66,
     "metadata": {},
     "output_type": "execute_result"
    }
   ],
   "source": [
    "def is_prime(num):\n",
    "    if num <= 1:\n",
    "        return False\n",
    "    if num <= 3:\n",
    "        return True\n",
    "    if num % 2 == 0 or num % 3 == 0:\n",
    "        return False\n",
    "    i = 5\n",
    "    while i * i <= num:\n",
    "        if num % i == 0 or num % (i + 2) == 0:\n",
    "            return False\n",
    "        i += 6\n",
    "    return True\n",
    "\n",
    "def prime_generator(limit):\n",
    "    num = 2\n",
    "    count = 0\n",
    "    while count < limit:\n",
    "        if is_prime(num):\n",
    "            yield num\n",
    "            count += 1\n",
    "        num += 1\n",
    "prime_generator(20)\n"
   ]
  },
  {
   "cell_type": "code",
   "execution_count": 67,
   "id": "ed355480",
   "metadata": {},
   "outputs": [
    {
     "name": "stdout",
     "output_type": "stream",
     "text": [
      "2\n",
      "3\n",
      "5\n",
      "7\n",
      "11\n",
      "13\n",
      "17\n",
      "19\n",
      "23\n",
      "29\n",
      "31\n",
      "37\n",
      "41\n",
      "43\n",
      "47\n",
      "53\n",
      "59\n",
      "61\n",
      "67\n",
      "71\n"
     ]
    }
   ],
   "source": [
    "for i in prime_generator(20):\n",
    "    print(i)"
   ]
  },
  {
   "cell_type": "code",
   "execution_count": null,
   "id": "9a2d97bf",
   "metadata": {},
   "outputs": [],
   "source": []
  },
  {
   "cell_type": "code",
   "execution_count": null,
   "id": "e65a307a",
   "metadata": {},
   "outputs": [],
   "source": []
  },
  {
   "cell_type": "code",
   "execution_count": null,
   "id": "fc9c8dcb",
   "metadata": {},
   "outputs": [],
   "source": []
  }
 ],
 "metadata": {
  "kernelspec": {
   "display_name": "Python 3 (ipykernel)",
   "language": "python",
   "name": "python3"
  },
  "language_info": {
   "codemirror_mode": {
    "name": "ipython",
    "version": 3
   },
   "file_extension": ".py",
   "mimetype": "text/x-python",
   "name": "python",
   "nbconvert_exporter": "python",
   "pygments_lexer": "ipython3",
   "version": "3.11.3"
  }
 },
 "nbformat": 4,
 "nbformat_minor": 5
}
